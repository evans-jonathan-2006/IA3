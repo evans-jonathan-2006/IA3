{
 "cells": [
  {
   "cell_type": "code",
   "execution_count": 8,
   "id": "9e043a1a",
   "metadata": {},
   "outputs": [],
   "source": [
    "import pandas as pd"
   ]
  },
  {
   "cell_type": "markdown",
   "id": "082ec369",
   "metadata": {},
   "source": [
    "# Esports scores"
   ]
  },
  {
   "cell_type": "code",
   "execution_count": 99,
   "id": "347e54fd",
   "metadata": {},
   "outputs": [],
   "source": [
    "l1=[4500,3800,5200,4900]\n"
   ]
  },
  {
   "cell_type": "code",
   "execution_count": 14,
   "id": "8497acfa",
   "metadata": {},
   "outputs": [
    {
     "name": "stdout",
     "output_type": "stream",
     "text": [
      "Enter the score to change:3800\n"
     ]
    },
    {
     "data": {
      "text/plain": [
       "[4500, 4000, 5200, '49k']"
      ]
     },
     "execution_count": 14,
     "metadata": {},
     "output_type": "execute_result"
    }
   ],
   "source": [
    "score=int(input(\"Enter the score to change:\"))\n",
    "if score in l1:\n",
    "    l1[l1.index(score)]=4000\n",
    "l1"
   ]
  },
  {
   "cell_type": "code",
   "execution_count": 15,
   "id": "6150c3e9",
   "metadata": {},
   "outputs": [
    {
     "name": "stdout",
     "output_type": "stream",
     "text": [
      "Enter the new score:5100\n"
     ]
    }
   ],
   "source": [
    "score=int(input(\"Enter the new score:\"))\n",
    "l1.append(score)"
   ]
  },
  {
   "cell_type": "code",
   "execution_count": 16,
   "id": "4a480e58",
   "metadata": {},
   "outputs": [
    {
     "data": {
      "text/plain": [
       "[4500, 4000, '49k']"
      ]
     },
     "execution_count": 16,
     "metadata": {},
     "output_type": "execute_result"
    }
   ],
   "source": [
    "for i in l1:\n",
    "    if i>5000:\n",
    "        l1.remove(i)\n",
    "l1"
   ]
  },
  {
   "cell_type": "code",
   "execution_count": 100,
   "id": "e55f8069",
   "metadata": {},
   "outputs": [
    {
     "data": {
      "text/plain": [
       "['4.5k', '3.8k', '5.2k', '4.9k']"
      ]
     },
     "execution_count": 100,
     "metadata": {},
     "output_type": "execute_result"
    }
   ],
   "source": [
    "for i in l1:\n",
    "    l1[l1.index(i)]=str(i/1000)+'k'\n",
    "l1"
   ]
  },
  {
   "cell_type": "code",
   "execution_count": 101,
   "id": "4389843e",
   "metadata": {},
   "outputs": [
    {
     "name": "stdout",
     "output_type": "stream",
     "text": [
      "sorted learderboard ranking\n",
      "(0, '3.8k')\n",
      "(1, '4.5k')\n",
      "(2, '4.9k')\n",
      "(3, '5.2k')\n"
     ]
    }
   ],
   "source": [
    "print(\"sorted learderboard ranking\")\n",
    "l1.sort()\n",
    "for i in enumerate(l1):\n",
    "    print(i)"
   ]
  },
  {
   "cell_type": "markdown",
   "id": "7fee0e66",
   "metadata": {},
   "source": [
    "# colors"
   ]
  },
  {
   "cell_type": "code",
   "execution_count": 45,
   "id": "fb8073f1",
   "metadata": {},
   "outputs": [],
   "source": [
    "colors=(\"#FF0000\",\"#00FF00\")\n"
   ]
  },
  {
   "cell_type": "code",
   "execution_count": 46,
   "id": "2089424e",
   "metadata": {},
   "outputs": [
    {
     "name": "stdout",
     "output_type": "stream",
     "text": [
      "the red is present\n"
     ]
    }
   ],
   "source": [
    "flag=0\n",
    "for i in colors:\n",
    "    if i==\"#FF0000\":\n",
    "        flag=1\n",
    "        print(\"the red is present\")\n",
    "        break\n",
    "if flag!=1:\n",
    "    print(\"red is not present\")"
   ]
  },
  {
   "cell_type": "code",
   "execution_count": 47,
   "id": "2f0cd15f",
   "metadata": {},
   "outputs": [
    {
     "name": "stdout",
     "output_type": "stream",
     "text": [
      "Enter the new color:#c00\n"
     ]
    }
   ],
   "source": [
    "new_color=input(\"Enter the new color:\")\n",
    "colors+=(new_color,)"
   ]
  },
  {
   "cell_type": "code",
   "execution_count": 48,
   "id": "219c0b58",
   "metadata": {},
   "outputs": [
    {
     "data": {
      "text/plain": [
       "('#FF0000', '#00FF00', '#c00')"
      ]
     },
     "execution_count": 48,
     "metadata": {},
     "output_type": "execute_result"
    }
   ],
   "source": [
    "colors"
   ]
  },
  {
   "cell_type": "code",
   "execution_count": 49,
   "id": "5a09ebcb",
   "metadata": {},
   "outputs": [
    {
     "data": {
      "text/plain": [
       "('#FF0000', '#00FF00', '#c00')"
      ]
     },
     "execution_count": 49,
     "metadata": {},
     "output_type": "execute_result"
    }
   ],
   "source": [
    "red,green,test=colors\n",
    "red,green,test"
   ]
  },
  {
   "cell_type": "code",
   "execution_count": 50,
   "id": "5cb735a6",
   "metadata": {},
   "outputs": [],
   "source": [
    "colors+=(\"#000FF\",)\n"
   ]
  },
  {
   "cell_type": "code",
   "execution_count": 51,
   "id": "f550ef8b",
   "metadata": {},
   "outputs": [
    {
     "data": {
      "text/plain": [
       "('#FF0000', '#00FF00', '#c00', '#000FF')"
      ]
     },
     "execution_count": 51,
     "metadata": {},
     "output_type": "execute_result"
    }
   ],
   "source": [
    "colors"
   ]
  },
  {
   "cell_type": "code",
   "execution_count": 55,
   "id": "be1c2d06",
   "metadata": {},
   "outputs": [],
   "source": [
    "l1=['#FF0000', '#00FF00' ,'#000FF']"
   ]
  },
  {
   "cell_type": "code",
   "execution_count": 56,
   "id": "5f5cbeb7",
   "metadata": {},
   "outputs": [],
   "source": [
    "#tupple with out rgb\n",
    "new_tup=()\n",
    "for i in colors:\n",
    "    if i in l1:\n",
    "        pass\n",
    "    else:\n",
    "        new_tup+=(i,)\n",
    "\n",
    "        \n",
    "        "
   ]
  },
  {
   "cell_type": "code",
   "execution_count": 57,
   "id": "26bfcd1b",
   "metadata": {},
   "outputs": [
    {
     "data": {
      "text/plain": [
       "('#c00',)"
      ]
     },
     "execution_count": 57,
     "metadata": {},
     "output_type": "execute_result"
    }
   ],
   "source": [
    "new_tup"
   ]
  },
  {
   "cell_type": "code",
   "execution_count": 58,
   "id": "b25416dc",
   "metadata": {},
   "outputs": [],
   "source": [
    "rgb_tuples=()\n",
    "for i in colors:\n",
    "    if i in l1:\n",
    "        rgb_tuples+=(i,)\n",
    "    else:\n",
    "        pass\n",
    "        "
   ]
  },
  {
   "cell_type": "code",
   "execution_count": 59,
   "id": "eb30e986",
   "metadata": {},
   "outputs": [
    {
     "data": {
      "text/plain": [
       "('#FF0000', '#00FF00', '#000FF')"
      ]
     },
     "execution_count": 59,
     "metadata": {},
     "output_type": "execute_result"
    }
   ],
   "source": [
    "rgb_tuples"
   ]
  },
  {
   "cell_type": "code",
   "execution_count": 60,
   "id": "b808d48c",
   "metadata": {},
   "outputs": [],
   "source": [
    "pastels=(\"#FFC0CB\",\"#ADD8E6\")\n",
    "merged=pastels+rgb_tuples\n"
   ]
  },
  {
   "cell_type": "code",
   "execution_count": 62,
   "id": "5812aaa7",
   "metadata": {},
   "outputs": [
    {
     "data": {
      "text/plain": [
       "('#FFC0CB', '#ADD8E6', '#FF0000', '#00FF00', '#000FF')"
      ]
     },
     "execution_count": 62,
     "metadata": {},
     "output_type": "execute_result"
    }
   ],
   "source": [
    "merged"
   ]
  },
  {
   "cell_type": "code",
   "execution_count": null,
   "id": "19b3f0ff",
   "metadata": {},
   "outputs": [],
   "source": []
  },
  {
   "cell_type": "markdown",
   "id": "25eac975",
   "metadata": {},
   "source": [
    "# scientific research"
   ]
  },
  {
   "cell_type": "code",
   "execution_count": 65,
   "id": "a6c65a75",
   "metadata": {},
   "outputs": [
    {
     "name": "stdout",
     "output_type": "stream",
     "text": [
      "ranking samples\n"
     ]
    }
   ],
   "source": [
    "print(\"ranking samples\")\n",
    "samples={\"SR-1001\",\"SR-1002\",\"SR-1003\"}"
   ]
  },
  {
   "cell_type": "code",
   "execution_count": 66,
   "id": "6dd93152",
   "metadata": {},
   "outputs": [
    {
     "name": "stdout",
     "output_type": "stream",
     "text": [
      "exists\n"
     ]
    }
   ],
   "source": [
    "if \"SR-1002\" in samples:\n",
    "    print(\"exists\")"
   ]
  },
  {
   "cell_type": "code",
   "execution_count": 67,
   "id": "67e8f0eb",
   "metadata": {},
   "outputs": [],
   "source": [
    "samples.add(\"SR-1004\")"
   ]
  },
  {
   "cell_type": "code",
   "execution_count": 68,
   "id": "924e68fa",
   "metadata": {},
   "outputs": [
    {
     "data": {
      "text/plain": [
       "{'SR-1001', 'SR-1002', 'SR-1003', 'SR-1004'}"
      ]
     },
     "execution_count": 68,
     "metadata": {},
     "output_type": "execute_result"
    }
   ],
   "source": [
    "samples"
   ]
  },
  {
   "cell_type": "code",
   "execution_count": 69,
   "id": "f28ff39e",
   "metadata": {},
   "outputs": [],
   "source": [
    "samples.discard(\"SR-1001\")"
   ]
  },
  {
   "cell_type": "code",
   "execution_count": 70,
   "id": "cf246e57",
   "metadata": {},
   "outputs": [
    {
     "data": {
      "text/plain": [
       "{'SR-1002', 'SR-1003', 'SR-1004'}"
      ]
     },
     "execution_count": 70,
     "metadata": {},
     "output_type": "execute_result"
    }
   ],
   "source": [
    "samples"
   ]
  },
  {
   "cell_type": "code",
   "execution_count": 71,
   "id": "5a4bdf35",
   "metadata": {},
   "outputs": [
    {
     "name": "stdout",
     "output_type": "stream",
     "text": [
      "SR-1004\n",
      "SR-1002\n",
      "SR-1003\n"
     ]
    }
   ],
   "source": [
    "for i in samples:\n",
    "    print(i)"
   ]
  },
  {
   "cell_type": "code",
   "execution_count": 73,
   "id": "8bf95dbe",
   "metadata": {},
   "outputs": [],
   "source": [
    "control_samples={\"SR-1005\",\"SR-1009\"}\n",
    "merged_samples=samples.union(control_samples)"
   ]
  },
  {
   "cell_type": "code",
   "execution_count": 74,
   "id": "dd9b19a1",
   "metadata": {},
   "outputs": [
    {
     "data": {
      "text/plain": [
       "{'SR-1002', 'SR-1003', 'SR-1004', 'SR-1005', 'SR-1009'}"
      ]
     },
     "execution_count": 74,
     "metadata": {},
     "output_type": "execute_result"
    }
   ],
   "source": [
    "merged_samples"
   ]
  },
  {
   "cell_type": "markdown",
   "id": "5044b272",
   "metadata": {},
   "source": [
    "# sports team roaster"
   ]
  },
  {
   "cell_type": "code",
   "execution_count": 75,
   "id": "916a8134",
   "metadata": {},
   "outputs": [],
   "source": [
    "team = {\n",
    "    \"player1\": {\n",
    "        \"name\": \"John\",\n",
    "        \"position\": \"Forward\",\n",
    "        \"goals\": 5\n",
    "    },\n",
    "    \"player2\": {\n",
    "        \"name\": \"Mike\",\n",
    "        \"position\": \"Goalie\",\n",
    "        \"goals\": 0\n",
    "    }\n",
    "}"
   ]
  },
  {
   "cell_type": "code",
   "execution_count": 79,
   "id": "5c2760ac",
   "metadata": {},
   "outputs": [
    {
     "name": "stdout",
     "output_type": "stream",
     "text": [
      "the postion of john is Forward\n"
     ]
    }
   ],
   "source": [
    "for i in list(team.values()):\n",
    "    if i['name']=='John':\n",
    "        print(f\"the postion of john is {i['position']}\")"
   ]
  },
  {
   "cell_type": "code",
   "execution_count": 88,
   "id": "f99dd10c",
   "metadata": {},
   "outputs": [],
   "source": [
    "team['player2']['goals']=1\n",
    "\n",
    "\n"
   ]
  },
  {
   "cell_type": "code",
   "execution_count": 89,
   "id": "21ccafd2",
   "metadata": {},
   "outputs": [
    {
     "data": {
      "text/plain": [
       "{'player1': {'name': 'John', 'position': 'Forward', 'goals': 5},\n",
       " 'player2': {'name': 'Mike', 'position': 'Goalie', 'goals': 1}}"
      ]
     },
     "execution_count": 89,
     "metadata": {},
     "output_type": "execute_result"
    }
   ],
   "source": [
    "team"
   ]
  },
  {
   "cell_type": "code",
   "execution_count": 90,
   "id": "d077bbe7",
   "metadata": {},
   "outputs": [],
   "source": [
    "team['player3']={\n",
    "    \"name\":\"Sarah\",\n",
    "    \"position\":\"Midfielder\",\n",
    "    \"goals\":\"3\"\n",
    "}"
   ]
  },
  {
   "cell_type": "code",
   "execution_count": 91,
   "id": "25863d17",
   "metadata": {},
   "outputs": [
    {
     "data": {
      "text/plain": [
       "{'player1': {'name': 'John', 'position': 'Forward', 'goals': 5},\n",
       " 'player2': {'name': 'Mike', 'position': 'Goalie', 'goals': 1},\n",
       " 'player3': {'name': 'Sarah', 'position': 'Midfielder', 'goals': '3'}}"
      ]
     },
     "execution_count": 91,
     "metadata": {},
     "output_type": "execute_result"
    }
   ],
   "source": [
    "team"
   ]
  },
  {
   "cell_type": "markdown",
   "id": "924281eb",
   "metadata": {},
   "source": [
    "# open csv then to dataframe"
   ]
  },
  {
   "cell_type": "code",
   "execution_count": 103,
   "id": "72a798b2",
   "metadata": {},
   "outputs": [],
   "source": [
    "import pandas as pd"
   ]
  },
  {
   "cell_type": "code",
   "execution_count": 104,
   "id": "73273736",
   "metadata": {},
   "outputs": [
    {
     "data": {
      "text/html": [
       "<div>\n",
       "<style scoped>\n",
       "    .dataframe tbody tr th:only-of-type {\n",
       "        vertical-align: middle;\n",
       "    }\n",
       "\n",
       "    .dataframe tbody tr th {\n",
       "        vertical-align: top;\n",
       "    }\n",
       "\n",
       "    .dataframe thead th {\n",
       "        text-align: right;\n",
       "    }\n",
       "</style>\n",
       "<table border=\"1\" class=\"dataframe\">\n",
       "  <thead>\n",
       "    <tr style=\"text-align: right;\">\n",
       "      <th></th>\n",
       "      <th>Channel</th>\n",
       "      <th>Region</th>\n",
       "      <th>Fresh</th>\n",
       "      <th>Milk</th>\n",
       "      <th>Grocery</th>\n",
       "      <th>Frozen</th>\n",
       "      <th>Detergents_Paper</th>\n",
       "      <th>Delicassen</th>\n",
       "    </tr>\n",
       "  </thead>\n",
       "  <tbody>\n",
       "    <tr>\n",
       "      <th>0</th>\n",
       "      <td>2</td>\n",
       "      <td>3</td>\n",
       "      <td>12669</td>\n",
       "      <td>9656</td>\n",
       "      <td>7561</td>\n",
       "      <td>214</td>\n",
       "      <td>2674</td>\n",
       "      <td>1338</td>\n",
       "    </tr>\n",
       "    <tr>\n",
       "      <th>1</th>\n",
       "      <td>2</td>\n",
       "      <td>3</td>\n",
       "      <td>7057</td>\n",
       "      <td>9810</td>\n",
       "      <td>9568</td>\n",
       "      <td>1762</td>\n",
       "      <td>3293</td>\n",
       "      <td>1776</td>\n",
       "    </tr>\n",
       "    <tr>\n",
       "      <th>2</th>\n",
       "      <td>2</td>\n",
       "      <td>3</td>\n",
       "      <td>6353</td>\n",
       "      <td>8808</td>\n",
       "      <td>7684</td>\n",
       "      <td>2405</td>\n",
       "      <td>3516</td>\n",
       "      <td>7844</td>\n",
       "    </tr>\n",
       "    <tr>\n",
       "      <th>3</th>\n",
       "      <td>1</td>\n",
       "      <td>3</td>\n",
       "      <td>13265</td>\n",
       "      <td>1196</td>\n",
       "      <td>4221</td>\n",
       "      <td>6404</td>\n",
       "      <td>507</td>\n",
       "      <td>1788</td>\n",
       "    </tr>\n",
       "    <tr>\n",
       "      <th>4</th>\n",
       "      <td>2</td>\n",
       "      <td>3</td>\n",
       "      <td>22615</td>\n",
       "      <td>5410</td>\n",
       "      <td>7198</td>\n",
       "      <td>3915</td>\n",
       "      <td>1777</td>\n",
       "      <td>5185</td>\n",
       "    </tr>\n",
       "    <tr>\n",
       "      <th>...</th>\n",
       "      <td>...</td>\n",
       "      <td>...</td>\n",
       "      <td>...</td>\n",
       "      <td>...</td>\n",
       "      <td>...</td>\n",
       "      <td>...</td>\n",
       "      <td>...</td>\n",
       "      <td>...</td>\n",
       "    </tr>\n",
       "    <tr>\n",
       "      <th>435</th>\n",
       "      <td>1</td>\n",
       "      <td>3</td>\n",
       "      <td>29703</td>\n",
       "      <td>12051</td>\n",
       "      <td>16027</td>\n",
       "      <td>13135</td>\n",
       "      <td>182</td>\n",
       "      <td>2204</td>\n",
       "    </tr>\n",
       "    <tr>\n",
       "      <th>436</th>\n",
       "      <td>1</td>\n",
       "      <td>3</td>\n",
       "      <td>39228</td>\n",
       "      <td>1431</td>\n",
       "      <td>764</td>\n",
       "      <td>4510</td>\n",
       "      <td>93</td>\n",
       "      <td>2346</td>\n",
       "    </tr>\n",
       "    <tr>\n",
       "      <th>437</th>\n",
       "      <td>2</td>\n",
       "      <td>3</td>\n",
       "      <td>14531</td>\n",
       "      <td>15488</td>\n",
       "      <td>30243</td>\n",
       "      <td>437</td>\n",
       "      <td>14841</td>\n",
       "      <td>1867</td>\n",
       "    </tr>\n",
       "    <tr>\n",
       "      <th>438</th>\n",
       "      <td>1</td>\n",
       "      <td>3</td>\n",
       "      <td>10290</td>\n",
       "      <td>1981</td>\n",
       "      <td>2232</td>\n",
       "      <td>1038</td>\n",
       "      <td>168</td>\n",
       "      <td>2125</td>\n",
       "    </tr>\n",
       "    <tr>\n",
       "      <th>439</th>\n",
       "      <td>1</td>\n",
       "      <td>3</td>\n",
       "      <td>2787</td>\n",
       "      <td>1698</td>\n",
       "      <td>2510</td>\n",
       "      <td>65</td>\n",
       "      <td>477</td>\n",
       "      <td>52</td>\n",
       "    </tr>\n",
       "  </tbody>\n",
       "</table>\n",
       "<p>440 rows × 8 columns</p>\n",
       "</div>"
      ],
      "text/plain": [
       "     Channel  Region  Fresh   Milk  Grocery  Frozen  Detergents_Paper  \\\n",
       "0          2       3  12669   9656     7561     214              2674   \n",
       "1          2       3   7057   9810     9568    1762              3293   \n",
       "2          2       3   6353   8808     7684    2405              3516   \n",
       "3          1       3  13265   1196     4221    6404               507   \n",
       "4          2       3  22615   5410     7198    3915              1777   \n",
       "..       ...     ...    ...    ...      ...     ...               ...   \n",
       "435        1       3  29703  12051    16027   13135               182   \n",
       "436        1       3  39228   1431      764    4510                93   \n",
       "437        2       3  14531  15488    30243     437             14841   \n",
       "438        1       3  10290   1981     2232    1038               168   \n",
       "439        1       3   2787   1698     2510      65               477   \n",
       "\n",
       "     Delicassen  \n",
       "0          1338  \n",
       "1          1776  \n",
       "2          7844  \n",
       "3          1788  \n",
       "4          5185  \n",
       "..          ...  \n",
       "435        2204  \n",
       "436        2346  \n",
       "437        1867  \n",
       "438        2125  \n",
       "439          52  \n",
       "\n",
       "[440 rows x 8 columns]"
      ]
     },
     "execution_count": 104,
     "metadata": {},
     "output_type": "execute_result"
    }
   ],
   "source": [
    "pd.read_csv(\"wholesale.csv\")"
   ]
  }
 ],
 "metadata": {
  "kernelspec": {
   "display_name": "Python 3 (ipykernel)",
   "language": "python",
   "name": "python3"
  },
  "language_info": {
   "codemirror_mode": {
    "name": "ipython",
    "version": 3
   },
   "file_extension": ".py",
   "mimetype": "text/x-python",
   "name": "python",
   "nbconvert_exporter": "python",
   "pygments_lexer": "ipython3",
   "version": "3.10.9"
  }
 },
 "nbformat": 4,
 "nbformat_minor": 5
}
